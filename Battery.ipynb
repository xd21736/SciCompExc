{
 "cells": [
  {
   "cell_type": "markdown",
   "metadata": {},
   "source": [
    "#Heat within a battery\n",
    "## Introduction\n",
    "The temperature of a battery is governed by the equation\n",
    "$$\n",
    "T=T_{air}+\\frac{{I^2}R}{h}\n",
    "$$\n",
    "With $T_{air}\\approx{23^o}C,h=1.86x10^{-4}WC^{-1} \\& r=3x10^{-4}\\Omega$"
   ]
  },
  {
   "cell_type": "code",
   "execution_count": null,
   "metadata": {},
   "outputs": [],
   "source": []
  }
 ],
 "metadata": {
  "language_info": {
   "name": "python"
  }
 },
 "nbformat": 4,
 "nbformat_minor": 2
}
